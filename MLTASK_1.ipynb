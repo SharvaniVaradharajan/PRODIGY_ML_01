{
 "cells": [
  {
   "cell_type": "code",
   "execution_count": 28,
   "id": "ec1ebf99",
   "metadata": {},
   "outputs": [],
   "source": [
    "import pandas as pd\n",
    "from sklearn.linear_model import LinearRegression\n",
    "\n",
    "# Load the training and test datasets\n",
    "train_data = pd.read_csv('train.csv')\n",
    "test_data = pd.read_csv('test.csv')\n",
    "\n",
    "# Extract features and target variable from training dataset\n",
    "X_train = train_data[['GrLivArea', 'BedroomAbvGr', 'HalfBath', 'FullBath']]\n",
    "y_train = train_data['SalePrice']\n",
    "\n",
    "# Extract features from test dataset\n",
    "X_test = test_data[['GrLivArea', 'BedroomAbvGr', 'HalfBath', 'FullBath']]\n",
    "\n",
    "# Train the linear regression model\n",
    "model = LinearRegression()\n",
    "model.fit(X_train, y_train)\n",
    "\n",
    "# Predict house prices on test data\n",
    "y_pred = model.predict(X_test)\n",
    "\n",
    "# Round predicted prices to two decimal places\n",
    "y_pred_rounded = [round(price, 2) for price in y_pred]\n",
    "\n",
    "# Add rounded predicted prices as a new column to the test dataset\n",
    "test_data['PredictedPrice'] = y_pred_rounded\n",
    "\n",
    "# Save the test dataset with rounded predicted prices and selected columns to a new CSV file\n",
    "test_data.to_csv('predicted_prices.csv', columns=['Id','PredictedPrice'], index=False)\n"
   ]
  },
  {
   "cell_type": "code",
   "execution_count": 13,
   "id": "183a702f",
   "metadata": {},
   "outputs": [
    {
     "data": {
      "text/plain": [
       "array([   108.22377873, -27911.62493864,   3586.62008062,  30380.78357956])"
      ]
     },
     "execution_count": 13,
     "metadata": {},
     "output_type": "execute_result"
    }
   ],
   "source": [
    "model.coef_\n"
   ]
  },
  {
   "cell_type": "code",
   "execution_count": 14,
   "id": "6daebd79",
   "metadata": {},
   "outputs": [
    {
     "data": {
      "text/plain": [
       "47997.69971509665"
      ]
     },
     "execution_count": 14,
     "metadata": {},
     "output_type": "execute_result"
    }
   ],
   "source": [
    "model.intercept_"
   ]
  },
  {
   "cell_type": "code",
   "execution_count": 15,
   "id": "91ab4f58",
   "metadata": {},
   "outputs": [
    {
     "data": {
      "text/plain": [
       "119523.73915945664"
      ]
     },
     "execution_count": 15,
     "metadata": {},
     "output_type": "execute_result"
    }
   ],
   "source": [
    "896*108.22377873+2*-27911.62493864+1*30380.78357956+47997.69971509665"
   ]
  },
  {
   "cell_type": "code",
   "execution_count": null,
   "id": "8964d063",
   "metadata": {},
   "outputs": [],
   "source": []
  }
 ],
 "metadata": {
  "kernelspec": {
   "display_name": "Python 3 (ipykernel)",
   "language": "python",
   "name": "python3"
  },
  "language_info": {
   "codemirror_mode": {
    "name": "ipython",
    "version": 3
   },
   "file_extension": ".py",
   "mimetype": "text/x-python",
   "name": "python",
   "nbconvert_exporter": "python",
   "pygments_lexer": "ipython3",
   "version": "3.11.5"
  }
 },
 "nbformat": 4,
 "nbformat_minor": 5
}
